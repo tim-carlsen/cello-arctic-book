{
 "cells": [
  {
   "cell_type": "markdown",
   "id": "9549a001",
   "metadata": {},
   "source": [
    "{logo}`CELLO`\n",
    "\n",
    "# Flight plan - {front}`flight_id`\n",
    "\n",
    "```{badges}\n",
    "```\n",
    "\n",
    "## Crew\n",
    "\n",
    "The flight is planned to take off at {front}`takeoff`.\n",
    "\n",
    "```{crew}\n",
    "```\n",
    "\n",
    "## Logistics\n",
    "\n",
    "Item | Value\n",
    "-------------| -----\n",
    "Tow-out+refueling | **11:00 UTC** (13:00 LT)\n",
    "**Takeoff** | **12:30 UTC** (14:30 LT)\n",
    "**Landing** | **15:20 UTC** (17:20 LT)\n",
    "Distance | ~396 nm\n",
    "Duration | ~2.53 h\n",
    "\n",
    "## Flight plan\n",
    "\n",
    "```{figure} ../figures/KA-20250928a/KA-20250928a-plan.png\n",
    "---\n",
    "name: KA-20250928a-flight-plan\n",
    "---\n",
    "Flight plan for 28th September 2025, targeting EC orbit 7587C.\n",
    "```\n",
    "\n",
    "Leg | Start | Distance | Est. time | FL | Notes\n",
    "-------------| ----- | ----- | ----- | ----- | -----\n",
    "**KRN-WP1** | 12:30 UTC | 28 nm | 0.15 h | transfer, ~FL270 | Arrive WP1 @FL280 <br>at 13:00 UTC\n",
    "**Hold** | 13:00 UTC | - | 20 min | FL270 | assess cloud situation\n",
    "**WP1-WP2** | 13:19 UTC | 149 nm | 0.83 h | **FL230-FL280**, <br>porpoising | **EC overpass 13:39 UTC**, <br>in-cloud if possible\n",
    "**WP2-WP3** | 13:59 UTC | 140 nm | 0.78 h | **FL230-FL280**, <br>porpoising | in-cloud if possible\n",
    "**WP3-KRN** | 14:45 UTC | 79 nm | 0.44 h | transfer, ~FL270 | going home\n",
    "\n",
    "Suggested alternates: **ESPA**/LLA"
   ]
  }
 ],
 "metadata": {
  "arrival_airport": "KRN",
  "categories": [
   "ec_under",
   "cirrus"
  ],
  "crew": [
   {
    "job": "PI",
    "name": "Robert Oscar David"
   },
   {
    "job": "Instrument operator",
    "name": "Sorin Ghemulet"
   },
   {
    "job": "Instrument operator",
    "name": "Alex Vlad"
   }
  ],
  "departure_airport": "KRN",
  "flight_id": "KA-20250928a",
  "jupytext": {
   "text_representation": {
    "extension": ".md",
    "format_name": "myst",
    "format_version": 0.12,
    "jupytext_version": "1.7.1"
   }
  },
  "kernelspec": {
   "display_name": "Python 3",
   "language": "python",
   "name": "python3"
  },
  "landing": "2025-09-28 15:20:00Z",
  "orphan": true,
  "platform": "King Air",
  "source_map": [
   27
  ],
  "takeoff": "2025-09-28 12:30:00Z"
 },
 "nbformat": 4,
 "nbformat_minor": 5
}