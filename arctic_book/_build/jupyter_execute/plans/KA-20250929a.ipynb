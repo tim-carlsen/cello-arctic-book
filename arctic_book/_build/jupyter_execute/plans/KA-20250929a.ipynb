{
 "cells": [
  {
   "cell_type": "markdown",
   "id": "112e4b97",
   "metadata": {},
   "source": [
    "{logo}`CELLO`\n",
    "\n",
    "# Flight plan - {front}`flight_id`\n",
    "\n",
    "```{badges}\n",
    "```\n",
    "\n",
    "## Crew\n",
    "\n",
    "The flight is planned to take off at {front}`takeoff`.\n",
    "\n",
    "```{crew}\n",
    "```\n",
    "\n",
    "## Flight plan\n",
    "\n",
    "```{figure} ../figures/KA-20250929a/KA-20250929a-plan.png\n",
    "---\n",
    "name: KA-20250929a-flight-plan\n",
    "---\n",
    "Flight plan for 29th September 2025, targeting EC orbit 7603C.\n",
    "```"
   ]
  }
 ],
 "metadata": {
  "arrival_airport": "KRN",
  "categories": [
   "ec_under",
   "mpc",
   "melt_layer",
   "precip",
   "multi",
   "marine_sc"
  ],
  "crew": [
   {
    "job": "PI",
    "name": "Tim Carlsen"
   },
   {
    "job": "Instrument operator",
    "name": "Sorin Ghemulet"
   },
   {
    "job": "Instrument operator",
    "name": "Alex Vlad"
   }
  ],
  "departure_airport": "KRN",
  "flight_id": "KA-20250929a",
  "jupytext": {
   "text_representation": {
    "extension": ".md",
    "format_name": "myst",
    "format_version": 0.12,
    "jupytext_version": "1.7.1"
   }
  },
  "kernelspec": {
   "display_name": "Python 3",
   "language": "python",
   "name": "python3"
  },
  "landing": "2025-09-29 15:50:00Z",
  "orphan": true,
  "platform": "King Air",
  "source_map": [
   27
  ],
  "takeoff": "2025-09-29 12:40:00Z"
 },
 "nbformat": 4,
 "nbformat_minor": 5
}