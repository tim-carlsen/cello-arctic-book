{
 "cells": [
  {
   "cell_type": "markdown",
   "id": "7e01185c",
   "metadata": {},
   "source": [
    "{logo}`CELLO`\n",
    "\n",
    "# Flight plan - {front}`flight_id`\n",
    "\n",
    "```{badges}\n",
    "```\n",
    "\n",
    "## Crew\n",
    "\n",
    "The flight is planned to take off at {front}`takeoff`.\n",
    "\n",
    "```{crew}\n",
    "```\n",
    "\n",
    "## Logistics\n",
    "\n",
    "Item | Value\n",
    "-------------| -----\n",
    "Tow-out+refueling | **12:00 UTC** (14:00 LT) <br> (after commercial flight left at 11:50 UTC)\n",
    "**Takeoff** | **12:40 UTC** (14:40 LT)\n",
    "**Landing** | **15:50 UTC** (17:50 LT)\n",
    "Distance | ~488 nm\n",
    "Duration | ~3.17 h\n",
    "\n",
    "## Flight plan\n",
    "\n",
    "```{figure} ../figures/KA-20250929a/KA-20250929a-plan.png\n",
    "---\n",
    "name: KA-20250929a-flight-plan\n",
    "---\n",
    "Flight plan for 29th September 2025, targeting EC orbit 7603C.\n",
    "```\n",
    "\n",
    "Leg | Start | Distance | Est. time | FL | Notes\n",
    "-------------| ----- | ----- | ----- | ----- | -----\n",
    "**KRN-WP1** | 12:40 UTC | 185 nm | 1.03 h | transfer, ~FL270 | Arrive WP1 @FL065 <br>at 13:40 UTC\n",
    "**Hold** | 13:40 UTC | - | 20 min | FL065 | assess cloud situation\n",
    "**WP1-WP2** | 14:00 UTC | 98 nm | 0.67 h | **FL015-FL100**, <br>porpoising | **EC overpass 14:20 UTC**, <br>in-cloud if possible\n",
    "**WP2-KRN** | 14:40 UTC | 205 nm | 1.14 h | transfer, ~FL270 | going home\n",
    "\n",
    "Suggested alternates: **ENTC**/TOS, **ENAN**/ANX"
   ]
  }
 ],
 "metadata": {
  "arrival_airport": "KRN",
  "categories": [
   "ec_under",
   "mpc",
   "melt_layer",
   "precip",
   "multi",
   "marine_sc"
  ],
  "crew": [
   {
    "job": "PI",
    "name": "Tim Carlsen"
   },
   {
    "job": "Instrument operator",
    "name": "Sorin Ghemulet"
   },
   {
    "job": "Instrument operator",
    "name": "Alex Vlad"
   }
  ],
  "departure_airport": "KRN",
  "flight_id": "KA-20250929a",
  "jupytext": {
   "text_representation": {
    "extension": ".md",
    "format_name": "myst",
    "format_version": 0.12,
    "jupytext_version": "1.7.1"
   }
  },
  "kernelspec": {
   "display_name": "Python 3",
   "language": "python",
   "name": "python3"
  },
  "landing": "2025-09-29 15:50:00Z",
  "orphan": true,
  "platform": "King Air",
  "source_map": [
   27
  ],
  "takeoff": "2025-09-29 12:40:00Z"
 },
 "nbformat": 4,
 "nbformat_minor": 5
}