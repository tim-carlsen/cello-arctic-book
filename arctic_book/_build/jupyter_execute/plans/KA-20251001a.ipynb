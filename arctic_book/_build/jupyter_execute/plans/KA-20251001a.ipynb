{
 "cells": [
  {
   "cell_type": "markdown",
   "id": "356ad5a6",
   "metadata": {},
   "source": [
    "{logo}`CELLO`\n",
    "\n",
    "# Flight plan - {front}`flight_id`\n",
    "\n",
    "```{badges}\n",
    "```\n",
    "\n",
    "## Crew\n",
    "\n",
    "The flight is planned to take off at {front}`takeoff`.\n",
    "\n",
    "```{crew}\n",
    "```\n",
    "\n",
    "## Logistics\n",
    "\n",
    "Item | Value\n",
    "-------------| -----\n",
    "Tow-out+refueling | **10:30 UTC** (12:30 LT)\n",
    "**Takeoff** | **12:00 UTC** (14:00 LT)\n",
    "**Landing** | **15:45 UTC** (17:45 LT)\n",
    "Distance | ~590 nm\n",
    "Duration | ~3.2 h\n",
    "\n",
    "## Flight plan\n",
    "\n",
    "```{figure} ../figures/KA-20251001a/KA-20251001a-plan.png\n",
    "---\n",
    "name: KA-20251001a-flight-plan\n",
    "---\n",
    "Flight plan for 1st October 2025, targeting EC orbit 7634C.\n",
    "```\n",
    "\n",
    "Leg | Start | Distance | Est. time | FL | Notes\n",
    "-------------| ----- | ----- | ----- | ----- | -----\n",
    "**KRN-WP1** | 12:00 UTC | 271 nm | 1.51 h | transfer, ~FL270 | Arrive WP1 @FL110 <br>at 13:30 UTC\n",
    "**Hold** | 13:30 UTC | - | 20 min | FL110 | assess cloud situation\n",
    "**WP1-WP2** | 13:50 UTC | 98 nm | 0.54 h | **FL020-FL110**, <br>porpoising | **EC overpass 14:08 UTC**, <br>in-cloud if possible\n",
    "**WP2-ELRES** | 14:30 UTC | 46 nm | 0.25 h | climb to FL260 | needed from Eurocontrol\n",
    "**ELRES-WP3** | 14:45 UTC | 39 nm | 0.19 h | climb to FL280 | sample cirrus high\n",
    "**WP3-KRN** | 15:00 UTC | 140 nm | 0.7 h | transfer, ~FL270 | going home\n",
    "\n",
    "Suggested alternates: **ENTC**/TOS, **ENAN**/ANX"
   ]
  }
 ],
 "metadata": {
  "arrival_airport": "KRN",
  "categories": [
   "ec_under",
   "mpc",
   "melt_layer",
   "precip",
   "marine_sc",
   "multi",
   "alomar",
   "cirrus"
  ],
  "crew": [
   {
    "job": "PI",
    "name": "Robert Oscar David"
   },
   {
    "job": "Instrument operator",
    "name": "Sorin Ghemulet"
   },
   {
    "job": "Instrument operator",
    "name": "Alex Vlad"
   }
  ],
  "departure_airport": "KRN",
  "flight_id": "KA-20251001a",
  "jupytext": {
   "text_representation": {
    "extension": ".md",
    "format_name": "myst",
    "format_version": 0.12,
    "jupytext_version": "1.7.1"
   }
  },
  "kernelspec": {
   "display_name": "Python 3",
   "language": "python",
   "name": "python3"
  },
  "landing": "2025-10-01 15:45:00Z",
  "orphan": true,
  "platform": "King Air",
  "source_map": [
   27
  ],
  "takeoff": "2025-10-01 12:00:00Z"
 },
 "nbformat": 4,
 "nbformat_minor": 5
}