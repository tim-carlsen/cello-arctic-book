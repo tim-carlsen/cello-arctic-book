{
 "cells": [
  {
   "cell_type": "markdown",
   "id": "4efbe63a",
   "metadata": {},
   "source": [
    "{logo}`CELLO`\n",
    "\n",
    "# Flight plan - {front}`flight_id`\n",
    "\n",
    "```{badges}\n",
    "```\n",
    "\n",
    "## Crew\n",
    "\n",
    "The flight is planned to take off at {front}`takeoff`.\n",
    "\n",
    "```{crew}\n",
    "```\n",
    "\n",
    "## Flight plan\n",
    "\n",
    "```{figure} ../figures/KA-20251001a/KA-20251001a-plan.png\n",
    "---\n",
    "name: KA-20251001a-flight-plan\n",
    "---\n",
    "Flight plan for 1st October 2025, targeting EC orbit 7634C.\n",
    "```"
   ]
  }
 ],
 "metadata": {
  "arrival_airport": "KRN",
  "categories": [
   "ec_under",
   "mpc",
   "melt_layer",
   "precip",
   "marine_sc",
   "multi",
   "alomar",
   "cirrus"
  ],
  "crew": [
   {
    "job": "PI",
    "name": "Robert Oscar David"
   },
   {
    "job": "Instrument operator",
    "name": "Sorin Ghemulet"
   },
   {
    "job": "Instrument operator",
    "name": "Alex Vlad"
   }
  ],
  "departure_airport": "KRN",
  "flight_id": "KA-20251001a",
  "jupytext": {
   "text_representation": {
    "extension": ".md",
    "format_name": "myst",
    "format_version": 0.12,
    "jupytext_version": "1.7.1"
   }
  },
  "kernelspec": {
   "display_name": "Python 3",
   "language": "python",
   "name": "python3"
  },
  "landing": "2025-10-01 15:45:00Z",
  "orphan": true,
  "platform": "King Air",
  "source_map": [
   27
  ],
  "takeoff": "2025-10-01 12:00:00Z"
 },
 "nbformat": 4,
 "nbformat_minor": 5
}