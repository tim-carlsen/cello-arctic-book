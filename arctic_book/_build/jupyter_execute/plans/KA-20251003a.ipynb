{
 "cells": [
  {
   "cell_type": "markdown",
   "id": "fdc2c934",
   "metadata": {},
   "source": [
    "{logo}`CELLO`\n",
    "\n",
    "# Flight plan - {front}`flight_id`\n",
    "\n",
    "```{badges}\n",
    "```\n",
    "\n",
    "## Crew\n",
    "\n",
    "The flight is planned to take off at {front}`takeoff`.\n",
    "\n",
    "```{crew}\n",
    "```\n",
    "\n",
    "## Flight plan\n",
    "\n",
    "```{figure} ../figures/KA-20251003a/KA-20251003a-plan.png\n",
    "---\n",
    "name: KA-20251003a-flight-plan\n",
    "---\n",
    "Flight plan for 3rd October 2025, targeting EC orbit 7665C.\n",
    "```"
   ]
  }
 ],
 "metadata": {
  "arrival_airport": "KRN",
  "categories": [
   "ec_under",
   "mpc",
   "melt_layer",
   "precip",
   "multi",
   "marine_sc"
  ],
  "crew": [
   {
    "job": "PI",
    "name": "Tim Carlsen"
   },
   {
    "job": "Instrument operator",
    "name": "Sorin Ghemulet"
   },
   {
    "job": "Instrument operator",
    "name": "Robert Oscar David"
   }
  ],
  "departure_airport": "KRN",
  "flight_id": "KA-20251003a",
  "jupytext": {
   "text_representation": {
    "extension": ".md",
    "format_name": "myst",
    "format_version": 0.12,
    "jupytext_version": "1.7.1"
   }
  },
  "kernelspec": {
   "display_name": "Python 3",
   "language": "python",
   "name": "python3"
  },
  "landing": "2025-10-03 15:20:00Z",
  "orphan": true,
  "platform": "King Air",
  "source_map": [
   27
  ],
  "takeoff": "2025-10-03 11:55:00Z"
 },
 "nbformat": 4,
 "nbformat_minor": 5
}