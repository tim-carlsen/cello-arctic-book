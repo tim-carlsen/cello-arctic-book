{
 "cells": [
  {
   "cell_type": "markdown",
   "id": "67140e43",
   "metadata": {},
   "source": [
    "{logo}`CELLO`\n",
    "\n",
    "# Flight plan - {front}`flight_id`\n",
    "\n",
    "```{badges}\n",
    "```\n",
    "\n",
    "## Crew\n",
    "\n",
    "The flight is planned to take off at {front}`takeoff`.\n",
    "\n",
    "```{crew}\n",
    "```\n",
    "\n",
    "## Logistics\n",
    "\n",
    "Item | Value\n",
    "-------------| -----\n",
    "Tow-out | **11:15 UTC** (13:15 LT), refueled already\n",
    "**Takeoff** | **11:55 UTC** (13:55 LT)\n",
    "**Landing** | **15:20 UTC** (17:20 LT)\n",
    "Distance | ~552 nm\n",
    "Duration | ~3.25 h\n",
    "\n",
    "\n",
    "## Flight plan\n",
    "\n",
    "```{figure} ../figures/KA-20251003a/KA-20251003a-plan.png\n",
    "---\n",
    "name: KA-20251003a-flight-plan\n",
    "---\n",
    "Flight plan for 3rd October 2025, targeting EC orbit 7665C.\n",
    "```\n",
    "\n",
    "Leg | Start | Distance | Est. time | FL | Notes\n",
    "-------------| ----- | ----- | ----- | ----- | -----\n",
    "**KRN-WP1** | 11:55 UTC | 274 nm | 1.37 h | transfer, ~FL270 | Arrive WP1 @FL270 <br>at 13:20 UTC\n",
    "**Hold** | 13:20 UTC | - | 20 min | FL270 | assess cloud situation\n",
    "**WP1-WP2** | 13:40 UTC | 94 nm | 0.52 h | **FL030-FL100**, <br>porpoising | **EC overpass 13:57 UTC**, <br>in-cloud if possible\n",
    "**WP2-KRN** | 14:15 UTC | 184 nm | 1.02 h | transfer, ~FL270 | going home\n",
    "\n",
    "Suggested alternates: **ENTC**/TOS, **ENAN**/ANX"
   ]
  }
 ],
 "metadata": {
  "arrival_airport": "KRN",
  "categories": [
   "ec_under",
   "mpc",
   "melt_layer",
   "precip",
   "multi",
   "marine_sc"
  ],
  "crew": [
   {
    "job": "PI",
    "name": "Tim Carlsen"
   },
   {
    "job": "Instrument operator",
    "name": "Sorin Ghemulet"
   },
   {
    "job": "Instrument operator",
    "name": "Robert Oscar David"
   }
  ],
  "departure_airport": "KRN",
  "flight_id": "KA-20251003a",
  "jupytext": {
   "text_representation": {
    "extension": ".md",
    "format_name": "myst",
    "format_version": 0.12,
    "jupytext_version": "1.7.1"
   }
  },
  "kernelspec": {
   "display_name": "Python 3",
   "language": "python",
   "name": "python3"
  },
  "landing": "2025-10-03 15:20:00Z",
  "orphan": true,
  "platform": "King Air",
  "source_map": [
   27
  ],
  "takeoff": "2025-10-03 11:55:00Z"
 },
 "nbformat": 4,
 "nbformat_minor": 5
}