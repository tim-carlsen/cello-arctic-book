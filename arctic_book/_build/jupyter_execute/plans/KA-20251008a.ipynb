{
 "cells": [
  {
   "cell_type": "markdown",
   "id": "677ccfd5",
   "metadata": {},
   "source": [
    "{logo}`CELLO`\n",
    "\n",
    "# Flight plan - {front}`flight_id`\n",
    "\n",
    "```{badges}\n",
    "```\n",
    "\n",
    "## Crew\n",
    "\n",
    "The flight is planned to take off at {front}`takeoff`.\n",
    "\n",
    "```{crew}\n",
    "```\n",
    "\n",
    "## Logistics\n",
    "\n",
    "Item | Value\n",
    "-------------| -----\n",
    "Tow-out+refuel | **10:30 UTC** (12:30 LT)\n",
    "**Takeoff** | **12:40 UTC** (14:40 LT)\n",
    "**Landing** | **15:45 UTC** (17:45 LT)\n",
    "Distance | ~448 nm\n",
    "Duration | ~3.1 h\n",
    "\n",
    "\n",
    "## Flight plan\n",
    "\n",
    "```{figure} ../figures/KA-20251008a/KA-20251008a-plan.png\n",
    "---\n",
    "name: KA-20251008a-flight-plan\n",
    "---\n",
    "Flight plan for 8th October 2025, targeting EC orbit 7743C.\n",
    "```\n",
    "\n",
    "Leg | Start | Distance | Est. time | FL | Notes\n",
    "-------------| ----- | ----- | ----- | ----- | -----\n",
    "**KRN-WP1** | 12:40 UTC | 174 nm | 0.97 h | transfer, ~FL250 | Arrive WP1 @FL250 <br>at 13:38 UTC\n",
    "**Hold** | 13:38 UTC | - | 20 min | FL250 | assess cloud situation\n",
    "**Hold between WP1-WP2** | 13:58 UTC | 20 nm | 50 min | **FL040-FL150**, <br>legs at diff. levels | **EC overpass 14:16 UTC**, <br>in-cloud if possible\n",
    "**WP1-KRN** | 14:48 UTC | 174 nm | 0.97 h | transfer, ~FL250 | going home\n",
    "\n",
    "Suggested alternates: **ENTC**/TOS, **ENAN**/ANX"
   ]
  }
 ],
 "metadata": {
  "arrival_airport": "KRN",
  "categories": [
   "cirrus",
   "cb_anvil",
   "ec_under"
  ],
  "crew": [
   {
    "job": "PI",
    "name": "Robert Oscar David"
   },
   {
    "job": "Instrument operator",
    "name": "Sorin Ghemulet"
   },
   {
    "job": "Instrument operator",
    "name": "Tim Carlsen"
   }
  ],
  "departure_airport": "KRN",
  "flight_id": "KA-20251008a",
  "jupytext": {
   "text_representation": {
    "extension": ".md",
    "format_name": "myst",
    "format_version": 0.12,
    "jupytext_version": "1.7.1"
   }
  },
  "kernelspec": {
   "display_name": "Python 3",
   "language": "python",
   "name": "python3"
  },
  "landing": "2025-10-08 15:45:00Z",
  "orphan": true,
  "platform": "King Air",
  "source_map": [
   27
  ],
  "takeoff": "2025-10-08 12:40:00Z"
 },
 "nbformat": 4,
 "nbformat_minor": 5
}