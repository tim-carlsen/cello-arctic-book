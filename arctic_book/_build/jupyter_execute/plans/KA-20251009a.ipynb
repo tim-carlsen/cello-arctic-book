{
 "cells": [
  {
   "cell_type": "markdown",
   "id": "98dd3b5f",
   "metadata": {},
   "source": [
    "{logo}`CELLO`\n",
    "\n",
    "# Flight plan - {front}`flight_id`\n",
    "\n",
    "```{badges}\n",
    "```\n",
    "\n",
    "## Crew\n",
    "\n",
    "The flight is planned to take off at {front}`takeoff`.\n",
    "\n",
    "```{crew}\n",
    "```\n",
    "\n",
    "## Logistics\n",
    "\n",
    "Item | Value\n",
    "-------------| -----\n",
    "Tow-out+refuel | **10:30 UTC** (12:30 LT)\n",
    "**Takeoff** | **12:05 UTC** (14:05 LT)\n",
    "**Landing** | **14:55 UTC** (16:55 LT)\n",
    "Distance | ~410 nm\n",
    "Duration | ~2.83 h\n",
    "\n",
    "\n",
    "## Flight plan\n",
    "\n",
    "```{figure} ../figures/KA-20251009a/KA-20251009a-plan.png\n",
    "---\n",
    "name: KA-20251009a-flight-plan\n",
    "---\n",
    "Flight plan for 9th October 2025, targeting EC orbit 7758C/D.\n",
    "```\n",
    "\n",
    "Leg | Start | Distance | Est. time | FL | Notes\n",
    "-------------| ----- | ----- | ----- | ----- | -----\n",
    "**KRN-WP1** | 12:05 UTC | 120 nm | 0.67 h | transfer, ~FL270 | Arrive WP1 @FL270 <br>at 12:45 UTC\n",
    "**Hold** | 12:45 UTC | - | 20 min | FL270 | assess cloud situation\n",
    "**WP1-WP2** | 13:05 UTC | 51 nm | 0.28 h | **FL270** | in-cloud if possible\n",
    "**WP2-WP1** | 13:21 UTC | 51 nm | 0.28 h | **FL250** | **EC overpass 13:25 UTC**, <br>in-cloud if possible\n",
    "**WP1-WP2** | 13:37 UTC | 51 nm | 0.28 h | **FL220** | in-cloud if possible\n",
    "**WP2-WP3** | 13:53 UTC | 45 nm | 0.25 h | transfer |\n",
    "**Spiral** | 14:08 UTC | - | 0.25 h | **FL220-FL270**,<br> spiral dwn/up | sample high clds<br>over ground site\n",
    "**WP3-KRN** | 14:23 UTC | 89 nm | 0.49 h | transfer, ~FL250 | going home\n",
    "\n",
    "Suggested alternates: **EFRO**/RVN, **ESPA**/LLA"
   ]
  }
 ],
 "metadata": {
  "arrival_airport": "KRN",
  "categories": [
   "cirrus",
   "multi",
   "ec_under"
  ],
  "crew": [
   {
    "job": "PI",
    "name": "Tim Carlsen"
   },
   {
    "job": "Instrument operator",
    "name": "Sorin Ghemulet"
   },
   {
    "job": "Instrument operator",
    "name": "Robert Oscar David"
   }
  ],
  "departure_airport": "KRN",
  "flight_id": "KA-20251009a",
  "jupytext": {
   "text_representation": {
    "extension": ".md",
    "format_name": "myst",
    "format_version": 0.12,
    "jupytext_version": "1.7.1"
   }
  },
  "kernelspec": {
   "display_name": "Python 3",
   "language": "python",
   "name": "python3"
  },
  "landing": "2025-10-09 15:06:00Z",
  "orphan": true,
  "platform": "King Air",
  "source_map": [
   27
  ],
  "takeoff": "2025-10-09 12:12:00Z"
 },
 "nbformat": 4,
 "nbformat_minor": 5
}