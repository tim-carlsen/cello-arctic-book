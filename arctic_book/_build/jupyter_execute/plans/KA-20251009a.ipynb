{
 "cells": [
  {
   "cell_type": "markdown",
   "id": "a0af51e3",
   "metadata": {},
   "source": [
    "{logo}`CELLO`\n",
    "\n",
    "# Flight plan - {front}`flight_id`\n",
    "\n",
    "```{badges}\n",
    "```\n",
    "\n",
    "## Crew\n",
    "\n",
    "The flight is planned to take off at {front}`takeoff`.\n",
    "\n",
    "```{crew}\n",
    "```\n",
    "\n",
    "## Logistics\n",
    "\n",
    "\n",
    "\n",
    "\n",
    "## Flight plan\n",
    "\n",
    "```{figure} ../figures/KA-20251009a/KA-20251009a-plan.png\n",
    "---\n",
    "name: KA-20251009a-flight-plan\n",
    "---\n",
    "Flight plan for 9th October 2025, targeting EC orbit 7758C/D.\n",
    "```"
   ]
  }
 ],
 "metadata": {
  "arrival_airport": "KRN",
  "categories": [
   "cirrus",
   "multi",
   "ec_under"
  ],
  "crew": [
   {
    "job": "PI",
    "name": "Tim Carlsen"
   },
   {
    "job": "Instrument operator",
    "name": "Sorin Ghemulet"
   },
   {
    "job": "Instrument operator",
    "name": "Robert Oscar David"
   }
  ],
  "departure_airport": "KRN",
  "flight_id": "KA-20251009a",
  "jupytext": {
   "text_representation": {
    "extension": ".md",
    "format_name": "myst",
    "format_version": 0.12,
    "jupytext_version": "1.7.1"
   }
  },
  "kernelspec": {
   "display_name": "Python 3",
   "language": "python",
   "name": "python3"
  },
  "landing": "2025-10-09 15:06:00Z",
  "orphan": true,
  "platform": "King Air",
  "source_map": [
   27
  ],
  "takeoff": "2025-10-09 12:12:00Z"
 },
 "nbformat": 4,
 "nbformat_minor": 5
}