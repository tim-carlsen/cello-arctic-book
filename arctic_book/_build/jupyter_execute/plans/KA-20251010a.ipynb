{
 "cells": [
  {
   "cell_type": "markdown",
   "id": "d203eb7e",
   "metadata": {},
   "source": [
    "{logo}`CELLO`\n",
    "\n",
    "# Flight plan - {front}`flight_id`\n",
    "\n",
    "```{badges}\n",
    "```\n",
    "\n",
    "## Crew\n",
    "\n",
    "The flight is planned to take off at {front}`takeoff`.\n",
    "\n",
    "```{crew}\n",
    "```\n",
    "\n",
    "## Logistics\n",
    "\n",
    "\n",
    "\n",
    "\n",
    "## Flight plan\n",
    "\n",
    "```{figure} ../figures/KA-20251010a/KA-20251010a-plan.png\n",
    "---\n",
    "name: KA-20251010a-flight-plan\n",
    "---\n",
    "Flight plan for 10th October 2025, targeting EC orbit 7774C/D.\n",
    "```"
   ]
  }
 ],
 "metadata": {
  "arrival_airport": "KRN",
  "categories": [
   "cirrus",
   "altocumulus",
   "mpc",
   "precip",
   "multi",
   "ec_under"
  ],
  "crew": [
   {
    "job": "PI",
    "name": "Robert Oscar David"
   },
   {
    "job": "Instrument operator",
    "name": "Sorin Ghemulet"
   },
   {
    "job": "Instrument operator",
    "name": "Tim Carlsen"
   }
  ],
  "departure_airport": "KRN",
  "flight_id": "KA-20251010a",
  "jupytext": {
   "text_representation": {
    "extension": ".md",
    "format_name": "myst",
    "format_version": 0.12,
    "jupytext_version": "1.7.1"
   }
  },
  "kernelspec": {
   "display_name": "Python 3",
   "language": "python",
   "name": "python3"
  },
  "landing": "2025-10-10 15:03:00Z",
  "orphan": true,
  "platform": "King Air",
  "source_map": [
   27
  ],
  "takeoff": "2025-10-10 13:02:00Z"
 },
 "nbformat": 4,
 "nbformat_minor": 5
}