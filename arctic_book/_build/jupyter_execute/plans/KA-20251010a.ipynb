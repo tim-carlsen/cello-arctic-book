{
 "cells": [
  {
   "cell_type": "markdown",
   "id": "41e95364",
   "metadata": {},
   "source": [
    "{logo}`CELLO`\n",
    "\n",
    "# Flight plan - {front}`flight_id`\n",
    "\n",
    "```{badges}\n",
    "```\n",
    "\n",
    "## Crew\n",
    "\n",
    "The flight is planned to take off at {front}`takeoff`.\n",
    "\n",
    "```{crew}\n",
    "```\n",
    "\n",
    "## Logistics\n",
    "\n",
    "Item | Value\n",
    "-------------| -----\n",
    "Tow-out+refuel | **12:00 UTC** (14:00 LT)\n",
    "**Takeoff** | **12:45 UTC** (14:45 LT)\n",
    "**Landing** | **15:00 UTC** (17:00 LT)\n",
    "Distance | ~325 nm\n",
    "Duration | ~2.14 h\n",
    "\n",
    "\n",
    "## Flight plan\n",
    "\n",
    "```{figure} ../figures/KA-20251010a/KA-20251010a-plan.png\n",
    "---\n",
    "name: KA-20251010a-flight-plan\n",
    "---\n",
    "Flight plan for 10th October 2025, targeting EC orbit 7774C/D.\n",
    "```\n",
    "\n",
    "Leg | Start | Distance | Est. time | FL | Notes\n",
    "-------------| ----- | ----- | ----- | ----- | -----\n",
    "**KRN-WP1** | 12:45 UTC | 119 nm | 0.66 h | transfer, ~FL270 | Arrive WP1 @FL270 <br>at 13:29 UTC\n",
    "**Hold** | 13:29 UTC | - | 25 min | FL270 | assess cloud situation\n",
    "**WP1-WP2** | 13:54 UTC | 33 nm | 0.18 h | **FL200-FL270** | Arrive WP2 <br> @**EC overpass 14:05 UTC**, <br>in-cloud if possible\n",
    "**WP2-WP3** | 14:05 UTC | 59 nm | 0.33 h | **FL200-FL270** | in-cloud if possible\n",
    "**WP3-KRN** | 14:25 UTC | 114 nm | 0.63 h | transfer, ~FL270 | going home\n",
    "\n",
    "Suggested alternates: **ENTC**/TOS, **ENAN**/ANX"
   ]
  }
 ],
 "metadata": {
  "arrival_airport": "KRN",
  "categories": [
   "cirrus",
   "altocumulus",
   "mpc",
   "precip",
   "multi",
   "ec_under"
  ],
  "crew": [
   {
    "job": "PI",
    "name": "Robert Oscar David"
   },
   {
    "job": "Instrument operator",
    "name": "Sorin Ghemulet"
   },
   {
    "job": "Instrument operator",
    "name": "Tim Carlsen"
   }
  ],
  "departure_airport": "KRN",
  "flight_id": "KA-20251010a",
  "jupytext": {
   "text_representation": {
    "extension": ".md",
    "format_name": "myst",
    "format_version": 0.12,
    "jupytext_version": "1.7.1"
   }
  },
  "kernelspec": {
   "display_name": "Python 3",
   "language": "python",
   "name": "python3"
  },
  "landing": "2025-10-10 15:03:00Z",
  "orphan": true,
  "platform": "King Air",
  "source_map": [
   27
  ],
  "takeoff": "2025-10-10 13:02:00Z"
 },
 "nbformat": 4,
 "nbformat_minor": 5
}