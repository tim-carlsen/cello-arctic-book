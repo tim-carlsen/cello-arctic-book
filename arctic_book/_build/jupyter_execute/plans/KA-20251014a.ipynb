{
 "cells": [
  {
   "cell_type": "markdown",
   "id": "4187ab9e",
   "metadata": {},
   "source": [
    "{logo}`CELLO`\n",
    "\n",
    "# Flight plan - {front}`flight_id`\n",
    "\n",
    "```{badges}\n",
    "```\n",
    "\n",
    "## Crew\n",
    "\n",
    "The flight is planned to take off at {front}`takeoff`.\n",
    "\n",
    "```{crew}\n",
    "```\n",
    "\n",
    "## Logistics\n",
    "\n",
    "Item | Value\n",
    "-------------| -----\n",
    "Tow-out+refuel | **TBD** (TBD LT)\n",
    "**Takeoff** | **12:35 UTC** (14:35 LT)\n",
    "**Landing** | **14:50 UTC** (16:50 LT)\n",
    "Distance | ~281 nm\n",
    "Duration | ~2.25 h\n",
    "\n",
    "\n",
    "## Flight plan\n",
    "\n",
    "```{figure} ../figures/KA-20251014a/KA-20251014a-plan.png\n",
    "---\n",
    "name: KA-20251014a-flight-plan\n",
    "---\n",
    "Flight plan for 14th October 2025, targeting EC orbit 7836C.\n",
    "```\n",
    "\n",
    "Leg | Start | Distance | Est. time | FL | Notes\n",
    "-------------| ----- | ----- | ----- | ----- | -----\n",
    "**KRN-WP1** | 12:35 UTC | 35 nm | 0.19 h <br>+ climb | transfer, ~FL270 | Arrive WP1 at 13:05 UTC\n",
    "**Hold** | 13:05 UTC | - | 20 min | - | assess cloud situation\n",
    "**WP1-WP2** | 13:25 UTC | 106 nm | 0.59 h | **FL180-FL270** | **EC overpass 13:43 UTC**, <br>in-cloud if possible\n",
    "**WP2-KRN** | 14:01 UTC | 140 nm | 0.78 h | transfer, ~FL270 | going home\n",
    "\n",
    "Suggested alternates: **ESPA**/LLA"
   ]
  }
 ],
 "metadata": {
  "arrival_airport": "KRN",
  "categories": [
   "mpc",
   "liquid",
   "altostratus",
   "ec_under"
  ],
  "crew": [
   {
    "job": "PI",
    "name": "Tim Carlsen"
   },
   {
    "job": "Instrument operator",
    "name": "Sorin Ghemulet"
   },
   {
    "job": "Instrument operator",
    "name": "Robert Oscar David"
   }
  ],
  "departure_airport": "KRN",
  "flight_id": "KA-20251014a",
  "jupytext": {
   "text_representation": {
    "extension": ".md",
    "format_name": "myst",
    "format_version": 0.12,
    "jupytext_version": "1.7.1"
   }
  },
  "kernelspec": {
   "display_name": "Python 3",
   "language": "python",
   "name": "python3"
  },
  "landing": "2025-10-14 14:50:00Z",
  "orphan": true,
  "platform": "King Air",
  "source_map": [
   27
  ],
  "takeoff": "2025-10-14 12:35:00Z"
 },
 "nbformat": 4,
 "nbformat_minor": 5
}